{
 "cells": [
  {
   "cell_type": "code",
   "execution_count": 9,
   "id": "2c617cf8-b567-4802-98fa-df481036ca6d",
   "metadata": {},
   "outputs": [
    {
     "name": "stdin",
     "output_type": "stream",
     "text": [
      " ········\n"
     ]
    }
   ],
   "source": [
    "import paramiko\n",
    "import getpass\n",
    "\n",
    "host = \"158.251.88.197\"\n",
    "port = 22\n",
    "username = \"iaraya\"\n",
    "password = getpass.getpass()\n",
    "\n",
    "ssh = paramiko.SSHClient()\n",
    "ssh.set_missing_host_key_policy(paramiko.AutoAddPolicy())\n",
    "ssh.connect(host, port, username, password)"
   ]
  },
  {
   "cell_type": "code",
   "execution_count": 23,
   "id": "d0dab5f0-46fb-422f-9ab7-03fcab2e767a",
   "metadata": {},
   "outputs": [],
   "source": [
    "def solve(ssh, dataset=\"BR8.txt\", inst_id=0, time=10, a=4.0, b=1.0, g=0.2, p=0.04):\n",
    "    command = \"/home/iaraya/clp/BSG_CLP /home/iaraya/clp/problems/clp/benchs/BR/\" + \\\n",
    "                dataset +\" -i \"+ str(inst_id) +\" -t \"+str(time)+ \\\n",
    "                \" --alpha=\"+str(a)+\" --beta=\"+str(b)+\" --gamma=\"+str(g)+\" -p \"+str(p)\n",
    "    print(command)\n",
    "    stdin, stdout, stderr = ssh.exec_command(command)\n",
    "    lines = stdout.readlines()\n",
    "    return float(lines[-1])"
   ]
  },
  {
   "cell_type": "code",
   "execution_count": 31,
   "id": "62a2a7d1-69af-4483-84c9-8e206c9d540a",
   "metadata": {},
   "outputs": [
    {
     "name": "stdout",
     "output_type": "stream",
     "text": [
      "/home/iaraya/clp/BSG_CLP /home/iaraya/clp/problems/clp/benchs/BR/BR8.txt -i 0 -t 10 --alpha=4.0 --beta=1.0 --gamma=0.2 -p 0.04\n"
     ]
    },
    {
     "data": {
      "text/plain": [
       "'94.667217\\n'"
      ]
     },
     "execution_count": 31,
     "metadata": {},
     "output_type": "execute_result"
    }
   ],
   "source": [
    "solve(ssh)"
   ]
  },
  {
   "cell_type": "code",
   "execution_count": 28,
   "id": "2c2838eb-d44a-4f18-bc8f-4308a226b8fd",
   "metadata": {},
   "outputs": [
    {
     "name": "stderr",
     "output_type": "stream",
     "text": [
      "WARNING (theano.tensor.blas): Using NumPy C-API based implementation for BLAS functions.\n"
     ]
    }
   ],
   "source": [
    "import fwk4exps.speculative_monitor as fwk\n",
    "f4e = fwk.SpeculativeMonitor(cpu_count=3)"
   ]
  },
  {
   "cell_type": "code",
   "execution_count": 29,
   "id": "5525ec5c-750a-419d-a446-d3c89d0dd1fb",
   "metadata": {},
   "outputs": [],
   "source": [
    "def parameter_tuning(S, param, param_values):\n",
    "    original_value = S.params[param]\n",
    "    original_name = S.name\n",
    "    params = S.params.copy()\n",
    "    for value in param_values:\n",
    "        params[param]=value\n",
    "        if original_value == value: \n",
    "            continue\n",
    "        else: \n",
    "            S2 = fwk.Strategy(original_name, S.pathExe, S.args, params)\n",
    "        S = f4e.bestStrategy(S, S2)\n",
    "    return S"
   ]
  },
  {
   "cell_type": "code",
   "execution_count": null,
   "id": "c77e6433-07db-4657-a51a-306b09959629",
   "metadata": {},
   "outputs": [],
   "source": [
    "def experimentalDesign():\n",
    "\n",
    "    S = fwk.Strategy('BSG_CLP', './BSG_CLP', '--alpha={a} --beta={b} --gamma={g} -p {p}', {\"a\": 0.0, \"b\": 0.0, \"g\": 0.0, \"p\": 0.0})\n",
    "\n",
    "    S = parameter_tuning(S, \"a\", [0.0, 1.0, 2.0, 4.0, 8.0])\n",
    "    S = parameter_tuning(S, \"b\", [0.0, 0.5, 1.0, 2.0, 4.0])\n",
    "    S = parameter_tuning(S, \"g\", [0.0, 0.1, 0.2, 0.3, 0.4])\n",
    "    S = parameter_tuning(S, \"p\", [0.0, 0.1, 0.2, 0.3, 0.4])\n",
    "\n",
    "    f4e.output = S.name + \" \" + str(tuple(S.params.values())) + \" \"\n",
    "    f4e.terminate()    \n",
    "\n",
    "f4e.speculative_execution(experimentalDesign, 'instancesCLP-shuf.txt')"
   ]
  }
 ],
 "metadata": {
  "kernelspec": {
   "display_name": "Python 3 (ipykernel)",
   "language": "python",
   "name": "python3"
  },
  "language_info": {
   "codemirror_mode": {
    "name": "ipython",
    "version": 3
   },
   "file_extension": ".py",
   "mimetype": "text/x-python",
   "name": "python",
   "nbconvert_exporter": "python",
   "pygments_lexer": "ipython3",
   "version": "3.8.0"
  }
 },
 "nbformat": 4,
 "nbformat_minor": 5
}
