{
 "cells": [
  {
   "cell_type": "code",
   "execution_count": 9,
   "id": "2c617cf8-b567-4802-98fa-df481036ca6d",
   "metadata": {},
   "outputs": [
    {
     "name": "stdin",
     "output_type": "stream",
     "text": [
      " ········\n"
     ]
    }
   ],
   "source": [
    "import paramiko\n",
    "import getpass\n",
    "\n",
    "host = \"158.251.88.197\"\n",
    "port = 22\n",
    "username = \"iaraya\"\n",
    "password = getpass.getpass()\n",
    "\n",
    "ssh = paramiko.SSHClient()\n",
    "ssh.set_missing_host_key_policy(paramiko.AutoAddPolicy())\n",
    "ssh.connect(host, port, username, password)"
   ]
  },
  {
   "cell_type": "code",
   "execution_count": 23,
   "id": "d0dab5f0-46fb-422f-9ab7-03fcab2e767a",
   "metadata": {},
   "outputs": [],
   "source": [
    "def solve(ssh, dataset=\"BR8.txt\", inst_id=0, time=10, a=4.0, b=1.0, g=0.2, p=0.04):\n",
    "    command = \"/home/iaraya/clp/BSG_CLP /home/iaraya/clp/problems/clp/benchs/BR/\" + \\\n",
    "                dataset +\" -i \"+ str(inst_id) +\" -t \"+str(time)+ \\\n",
    "                \" --alpha=\"+str(a)+\" --beta=\"+str(b)+\" --gamma=\"+str(g)+\" -p \"+str(p)\n",
    "    print(command)\n",
    "    stdin, stdout, stderr = ssh.exec_command(command)\n",
    "    lines = stdout.readlines()\n",
    "    return float(lines[-1])"
   ]
  }
 ],
 "metadata": {
  "kernelspec": {
   "display_name": "Python 3 (ipykernel)",
   "language": "python",
   "name": "python3"
  },
  "language_info": {
   "codemirror_mode": {
    "name": "ipython",
    "version": 3
   },
   "file_extension": ".py",
   "mimetype": "text/x-python",
   "name": "python",
   "nbconvert_exporter": "python",
   "pygments_lexer": "ipython3",
   "version": "3.8.0"
  }
 },
 "nbformat": 4,
 "nbformat_minor": 5
}
